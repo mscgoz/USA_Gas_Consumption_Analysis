{
 "cells": [
  {
   "cell_type": "markdown",
   "id": "ee3084bc",
   "metadata": {},
   "source": [
    "# Table of Contents\n",
    "\n",
    "## 1. Importing Data\n",
    "## 2. Data Overview\n",
    "## 3. Data Wrangling\n",
    "### 3.1. Reducing Data Size\n",
    "### 3.2. Missing Value Check\n",
    "### 3.3. Duplicate Value Check\n",
    "### 3.4. Deriving New Columns\n",
    "### 3.5. Dropping Unnecessary Columns\n",
    "### 3.6. Changing Column Name\n",
    "## 4. Exporting Data"
   ]
  },
  {
   "cell_type": "markdown",
   "id": "bf53c8b7",
   "metadata": {},
   "source": [
    "---\n",
    "## 1. Importing Data"
   ]
  },
  {
   "cell_type": "code",
   "execution_count": 25,
   "id": "dfad18b6",
   "metadata": {},
   "outputs": [],
   "source": [
    "# load libraries\n",
    "\n",
    "import pandas as pd\n",
    "import os"
   ]
  },
  {
   "cell_type": "code",
   "execution_count": 26,
   "id": "ac50918a",
   "metadata": {},
   "outputs": [],
   "source": [
    "# define path to data\n",
    "\n",
    "path = \"/Users/berkergoz/Desktop/US_Gas_Analysis/02_Data\""
   ]
  },
  {
   "cell_type": "code",
   "execution_count": 27,
   "id": "fe15cdd2",
   "metadata": {},
   "outputs": [],
   "source": [
    "# define a function to load data, except path error (e.g., file not found, change the path accordingly)\n",
    "\n",
    "def load_data(path):\n",
    "    \"\"\"\n",
    "    Load data from a CSV file into a pandas DataFrame.\n",
    "    \n",
    "    Parameters:\n",
    "    path (str): The path to the CSV file.\n",
    "    \n",
    "    Returns:\n",
    "    pd.DataFrame: The loaded data as a DataFrame.\n",
    "    \"\"\"\n",
    "    try:\n",
    "        df = pd.read_csv(os.path.join(path, \"original_data\", \"gas_data.csv\"))\n",
    "        return df\n",
    "    except Exception as e:\n",
    "        print(f\"Error loading data: {e}\")\n",
    "        return None "
   ]
  },
  {
   "cell_type": "code",
   "execution_count": 28,
   "id": "f40bd8e1",
   "metadata": {},
   "outputs": [
    {
     "name": "stdout",
     "output_type": "stream",
     "text": [
      "Data loaded successfully.\n"
     ]
    }
   ],
   "source": [
    "# load the data\n",
    "df = load_data(path)\n",
    "\n",
    "# check if the data is loaded successfully\n",
    "if df is not None:\n",
    "    print(\"Data loaded successfully.\")\n",
    "else:\n",
    "    print(\"Failed to load data.\")\n",
    "    "
   ]
  },
  {
   "cell_type": "code",
   "execution_count": 29,
   "id": "fb5dcdfe",
   "metadata": {},
   "outputs": [],
   "source": [
    "# set up display options for pandas\n",
    "\n",
    "pd.set_option('display.max_columns', None)  # Show all columns\n",
    "pd.set_option('display.max_rows', None)     # Show all rows\n",
    "pd.set_option('display.width', 200)  # Show columns in a wider format"
   ]
  },
  {
   "cell_type": "markdown",
   "id": "5a652166",
   "metadata": {},
   "source": [
    "## 2. Data Overview"
   ]
  },
  {
   "cell_type": "code",
   "execution_count": 30,
   "id": "a545380c",
   "metadata": {},
   "outputs": [
    {
     "name": "stdout",
     "output_type": "stream",
     "text": [
      "   year  month duoarea area-name product product-name process            process-name    series                                 series-description   value units\n",
      "0  2014      1     SFL   FLORIDA    EPG0  Natural Gas     VCS  Commercial Consumption  N3020FL2  Natural Gas Deliveries to Commercial Consumers...  6605.0  MMCF\n",
      "1  2014      1     SNH    USA-NH    EPG0  Natural Gas     VCS  Commercial Consumption  N3020NH2  Natural Gas Deliveries to Commercial Consumers...  1691.0  MMCF\n",
      "2  2014      1     SOR    USA-OR    EPG0  Natural Gas     VCS  Commercial Consumption  N3020OR2  Natural Gas Deliveries to Commercial Consumers...  4711.0  MMCF\n",
      "3  2014      1     SDE    USA-DE    EPG0  Natural Gas     VCS  Commercial Consumption  N3020DE2  Natural Gas Deliveries to Commercial Consumers...  2128.0  MMCF\n",
      "4  2014      1     SAZ    USA-AZ    EPG0  Natural Gas     VCS  Commercial Consumption  N3020AZ2  Natural Gas Deliveries to Commercial Consumers...  3915.0  MMCF\n"
     ]
    }
   ],
   "source": [
    "# check the first few rows of the data\n",
    "\n",
    "print(df.head())"
   ]
  },
  {
   "cell_type": "code",
   "execution_count": 31,
   "id": "411fb119",
   "metadata": {},
   "outputs": [
    {
     "name": "stdout",
     "output_type": "stream",
     "text": [
      "       year  month duoarea      area-name product product-name process             process-name    series                                 series-description    value units\n",
      "37989  2024      1     SMN      MINNESOTA    EPG0  Natural Gas     VRS  Residential Consumption  N3010MN2  Minnesota Natural Gas Residential Consumption ...  24866.0  MMCF\n",
      "37990  2024      1     SNE         USA-NE    EPG0  Natural Gas     VRS  Residential Consumption  N3010NE2  Nebraska Natural Gas Residential Consumption (...   7800.0  MMCF\n",
      "37991  2024      1     SVA         USA-VA    EPG0  Natural Gas     VRS  Residential Consumption  N3010VA2  Virginia Natural Gas Residential Consumption (...  15938.0  MMCF\n",
      "37992  2024      1     SCT         USA-CT    EPG0  Natural Gas     VRS  Residential Consumption  N3010CT2  Connecticut Natural Gas Residential Consumptio...   9299.0  MMCF\n",
      "37993  2024      1     SMA  MASSACHUSETTS    EPG0  Natural Gas     VRS  Residential Consumption  N3010MA2  Massachusetts Natural Gas Residential Consumpt...  20557.0  MMCF\n"
     ]
    }
   ],
   "source": [
    "# check the last few rows of the data\n",
    "\n",
    "print(df.tail())"
   ]
  },
  {
   "cell_type": "code",
   "execution_count": 32,
   "id": "de233e6c",
   "metadata": {},
   "outputs": [
    {
     "name": "stdout",
     "output_type": "stream",
     "text": [
      "<class 'pandas.core.frame.DataFrame'>\n",
      "RangeIndex: 37994 entries, 0 to 37993\n",
      "Data columns (total 12 columns):\n",
      " #   Column              Non-Null Count  Dtype  \n",
      "---  ------              --------------  -----  \n",
      " 0   year                37994 non-null  int64  \n",
      " 1   month               37994 non-null  int64  \n",
      " 2   duoarea             37994 non-null  object \n",
      " 3   area-name           37994 non-null  object \n",
      " 4   product             37994 non-null  object \n",
      " 5   product-name        37994 non-null  object \n",
      " 6   process             37994 non-null  object \n",
      " 7   process-name        37994 non-null  object \n",
      " 8   series              37994 non-null  object \n",
      " 9   series-description  37994 non-null  object \n",
      " 10  value               37518 non-null  float64\n",
      " 11  units               37994 non-null  object \n",
      "dtypes: float64(1), int64(2), object(9)\n",
      "memory usage: 3.5+ MB\n"
     ]
    }
   ],
   "source": [
    "# Check df information\n",
    "\n",
    "df.info()"
   ]
  },
  {
   "cell_type": "code",
   "execution_count": 33,
   "id": "f6a962b2",
   "metadata": {},
   "outputs": [
    {
     "data": {
      "text/html": [
       "<div>\n",
       "<style scoped>\n",
       "    .dataframe tbody tr th:only-of-type {\n",
       "        vertical-align: middle;\n",
       "    }\n",
       "\n",
       "    .dataframe tbody tr th {\n",
       "        vertical-align: top;\n",
       "    }\n",
       "\n",
       "    .dataframe thead th {\n",
       "        text-align: right;\n",
       "    }\n",
       "</style>\n",
       "<table border=\"1\" class=\"dataframe\">\n",
       "  <thead>\n",
       "    <tr style=\"text-align: right;\">\n",
       "      <th></th>\n",
       "      <th>year</th>\n",
       "      <th>month</th>\n",
       "      <th>value</th>\n",
       "    </tr>\n",
       "  </thead>\n",
       "  <tbody>\n",
       "    <tr>\n",
       "      <th>count</th>\n",
       "      <td>37994.000000</td>\n",
       "      <td>37994.000000</td>\n",
       "      <td>3.751800e+04</td>\n",
       "    </tr>\n",
       "    <tr>\n",
       "      <th>mean</th>\n",
       "      <td>2018.545455</td>\n",
       "      <td>6.454545</td>\n",
       "      <td>2.970826e+04</td>\n",
       "    </tr>\n",
       "    <tr>\n",
       "      <th>std</th>\n",
       "      <td>2.903442</td>\n",
       "      <td>3.473677</td>\n",
       "      <td>1.504204e+05</td>\n",
       "    </tr>\n",
       "    <tr>\n",
       "      <th>min</th>\n",
       "      <td>2014.000000</td>\n",
       "      <td>1.000000</td>\n",
       "      <td>0.000000e+00</td>\n",
       "    </tr>\n",
       "    <tr>\n",
       "      <th>25%</th>\n",
       "      <td>2016.000000</td>\n",
       "      <td>3.000000</td>\n",
       "      <td>8.092500e+02</td>\n",
       "    </tr>\n",
       "    <tr>\n",
       "      <th>50%</th>\n",
       "      <td>2019.000000</td>\n",
       "      <td>6.000000</td>\n",
       "      <td>4.380000e+03</td>\n",
       "    </tr>\n",
       "    <tr>\n",
       "      <th>75%</th>\n",
       "      <td>2021.000000</td>\n",
       "      <td>9.000000</td>\n",
       "      <td>1.616350e+04</td>\n",
       "    </tr>\n",
       "    <tr>\n",
       "      <th>max</th>\n",
       "      <td>2024.000000</td>\n",
       "      <td>12.000000</td>\n",
       "      <td>3.391775e+06</td>\n",
       "    </tr>\n",
       "  </tbody>\n",
       "</table>\n",
       "</div>"
      ],
      "text/plain": [
       "               year         month         value\n",
       "count  37994.000000  37994.000000  3.751800e+04\n",
       "mean    2018.545455      6.454545  2.970826e+04\n",
       "std        2.903442      3.473677  1.504204e+05\n",
       "min     2014.000000      1.000000  0.000000e+00\n",
       "25%     2016.000000      3.000000  8.092500e+02\n",
       "50%     2019.000000      6.000000  4.380000e+03\n",
       "75%     2021.000000      9.000000  1.616350e+04\n",
       "max     2024.000000     12.000000  3.391775e+06"
      ]
     },
     "execution_count": 33,
     "metadata": {},
     "output_type": "execute_result"
    }
   ],
   "source": [
    "# check the basic statistics of the data\n",
    "\n",
    "df.describe()"
   ]
  },
  {
   "cell_type": "code",
   "execution_count": 34,
   "id": "fc6facf5",
   "metadata": {},
   "outputs": [
    {
     "name": "stdout",
     "output_type": "stream",
     "text": [
      "Data shape: (37994, 12)\n"
     ]
    }
   ],
   "source": [
    "# check the df shape\n",
    "\n",
    "print(f\"Data shape: {df.shape}\")"
   ]
  },
  {
   "cell_type": "markdown",
   "id": "381ad2bd",
   "metadata": {},
   "source": [
    "## 3. Data Wrangling"
   ]
  },
  {
   "cell_type": "markdown",
   "id": "27991ccc",
   "metadata": {},
   "source": [
    "### 3.1. Reducing Data Size"
   ]
  },
  {
   "cell_type": "code",
   "execution_count": 35,
   "id": "c6c5f476",
   "metadata": {},
   "outputs": [],
   "source": [
    "# Reduce the dtype of the columns to save memory\n",
    "\n",
    "df['year'] = df['year'].astype('int16')\n",
    "df['month'] = df['month'].astype('int8')\n",
    "df['value'] = df['value'].astype('float32')"
   ]
  },
  {
   "cell_type": "code",
   "execution_count": 36,
   "id": "25a5dde6",
   "metadata": {},
   "outputs": [
    {
     "name": "stdout",
     "output_type": "stream",
     "text": [
      "<class 'pandas.core.frame.DataFrame'>\n",
      "RangeIndex: 37994 entries, 0 to 37993\n",
      "Data columns (total 12 columns):\n",
      " #   Column              Non-Null Count  Dtype  \n",
      "---  ------              --------------  -----  \n",
      " 0   year                37994 non-null  int16  \n",
      " 1   month               37994 non-null  int8   \n",
      " 2   duoarea             37994 non-null  object \n",
      " 3   area-name           37994 non-null  object \n",
      " 4   product             37994 non-null  object \n",
      " 5   product-name        37994 non-null  object \n",
      " 6   process             37994 non-null  object \n",
      " 7   process-name        37994 non-null  object \n",
      " 8   series              37994 non-null  object \n",
      " 9   series-description  37994 non-null  object \n",
      " 10  value               37518 non-null  float32\n",
      " 11  units               37994 non-null  object \n",
      "dtypes: float32(1), int16(1), int8(1), object(9)\n",
      "memory usage: 2.9+ MB\n"
     ]
    }
   ],
   "source": [
    "# check the df information \n",
    "\n",
    "df.info()"
   ]
  },
  {
   "cell_type": "markdown",
   "id": "4f9ded33",
   "metadata": {},
   "source": [
    "### 3.2. Missing Value Check"
   ]
  },
  {
   "cell_type": "code",
   "execution_count": 37,
   "id": "b6e900b5",
   "metadata": {},
   "outputs": [
    {
     "data": {
      "text/plain": [
       "year                    0\n",
       "month                   0\n",
       "duoarea                 0\n",
       "area-name               0\n",
       "product                 0\n",
       "product-name            0\n",
       "process                 0\n",
       "process-name            0\n",
       "series                  0\n",
       "series-description      0\n",
       "value                 476\n",
       "units                   0\n",
       "dtype: int64"
      ]
     },
     "execution_count": 37,
     "metadata": {},
     "output_type": "execute_result"
    }
   ],
   "source": [
    "# check the missing values in the data\n",
    "\n",
    "df.isnull().sum()"
   ]
  },
  {
   "cell_type": "code",
   "execution_count": 41,
   "id": "24d8b93d",
   "metadata": {},
   "outputs": [],
   "source": [
    "# filter out the missing values in the 'value' column\n",
    "\n",
    "df = df[df[\"value\"].isnull() == False]  "
   ]
  },
  {
   "cell_type": "code",
   "execution_count": 43,
   "id": "e8af201c",
   "metadata": {},
   "outputs": [
    {
     "data": {
      "text/plain": [
       "year                  0\n",
       "month                 0\n",
       "duoarea               0\n",
       "area-name             0\n",
       "product               0\n",
       "product-name          0\n",
       "process               0\n",
       "process-name          0\n",
       "series                0\n",
       "series-description    0\n",
       "value                 0\n",
       "units                 0\n",
       "dtype: int64"
      ]
     },
     "execution_count": 43,
     "metadata": {},
     "output_type": "execute_result"
    }
   ],
   "source": [
    "# check the missing values again\n",
    "\n",
    "df2.isnull().sum()"
   ]
  },
  {
   "cell_type": "code",
   "execution_count": 44,
   "id": "1919eab6",
   "metadata": {},
   "outputs": [
    {
     "data": {
      "text/plain": [
       "(37518, 12)"
      ]
     },
     "execution_count": 44,
     "metadata": {},
     "output_type": "execute_result"
    }
   ],
   "source": [
    "# control the shape\n",
    "\n",
    "df.shape"
   ]
  },
  {
   "cell_type": "markdown",
   "id": "f8b1f505",
   "metadata": {},
   "source": [
    "### 3.3. Duplicate Value Check"
   ]
  },
  {
   "cell_type": "code",
   "execution_count": 45,
   "id": "f12c994c",
   "metadata": {},
   "outputs": [
    {
     "data": {
      "text/plain": [
       "False    37518\n",
       "Name: count, dtype: int64"
      ]
     },
     "execution_count": 45,
     "metadata": {},
     "output_type": "execute_result"
    }
   ],
   "source": [
    "# checking the duplicates in the data\n",
    "\n",
    "df.duplicated().value_counts()"
   ]
  },
  {
   "cell_type": "markdown",
   "id": "14b3b031",
   "metadata": {},
   "source": [
    "### 3.4. Deriving New Columns"
   ]
  },
  {
   "cell_type": "code",
   "execution_count": 46,
   "id": "bcc15800",
   "metadata": {},
   "outputs": [],
   "source": [
    "# deriving a new datetime column 'date' from the 'year' and 'month' columns\n",
    "\n",
    "df['date'] = pd.to_datetime(df[['year', 'month']].assign(day=1)) # assume day is 1 for all entries to avoid ValueError"
   ]
  },
  {
   "cell_type": "code",
   "execution_count": 47,
   "id": "9f47f113",
   "metadata": {},
   "outputs": [],
   "source": [
    "# make the date column the index of the dataframe\n",
    "\n",
    "df.set_index('date', inplace=True)"
   ]
  },
  {
   "cell_type": "code",
   "execution_count": 48,
   "id": "32ae0303",
   "metadata": {},
   "outputs": [
    {
     "data": {
      "text/html": [
       "<div>\n",
       "<style scoped>\n",
       "    .dataframe tbody tr th:only-of-type {\n",
       "        vertical-align: middle;\n",
       "    }\n",
       "\n",
       "    .dataframe tbody tr th {\n",
       "        vertical-align: top;\n",
       "    }\n",
       "\n",
       "    .dataframe thead th {\n",
       "        text-align: right;\n",
       "    }\n",
       "</style>\n",
       "<table border=\"1\" class=\"dataframe\">\n",
       "  <thead>\n",
       "    <tr style=\"text-align: right;\">\n",
       "      <th></th>\n",
       "      <th>year</th>\n",
       "      <th>month</th>\n",
       "      <th>duoarea</th>\n",
       "      <th>area-name</th>\n",
       "      <th>product</th>\n",
       "      <th>product-name</th>\n",
       "      <th>process</th>\n",
       "      <th>process-name</th>\n",
       "      <th>series</th>\n",
       "      <th>series-description</th>\n",
       "      <th>value</th>\n",
       "      <th>units</th>\n",
       "    </tr>\n",
       "    <tr>\n",
       "      <th>date</th>\n",
       "      <th></th>\n",
       "      <th></th>\n",
       "      <th></th>\n",
       "      <th></th>\n",
       "      <th></th>\n",
       "      <th></th>\n",
       "      <th></th>\n",
       "      <th></th>\n",
       "      <th></th>\n",
       "      <th></th>\n",
       "      <th></th>\n",
       "      <th></th>\n",
       "    </tr>\n",
       "  </thead>\n",
       "  <tbody>\n",
       "    <tr>\n",
       "      <th>2014-01-01</th>\n",
       "      <td>2014</td>\n",
       "      <td>1</td>\n",
       "      <td>SFL</td>\n",
       "      <td>FLORIDA</td>\n",
       "      <td>EPG0</td>\n",
       "      <td>Natural Gas</td>\n",
       "      <td>VCS</td>\n",
       "      <td>Commercial Consumption</td>\n",
       "      <td>N3020FL2</td>\n",
       "      <td>Natural Gas Deliveries to Commercial Consumers...</td>\n",
       "      <td>6605.0</td>\n",
       "      <td>MMCF</td>\n",
       "    </tr>\n",
       "    <tr>\n",
       "      <th>2014-01-01</th>\n",
       "      <td>2014</td>\n",
       "      <td>1</td>\n",
       "      <td>SNH</td>\n",
       "      <td>USA-NH</td>\n",
       "      <td>EPG0</td>\n",
       "      <td>Natural Gas</td>\n",
       "      <td>VCS</td>\n",
       "      <td>Commercial Consumption</td>\n",
       "      <td>N3020NH2</td>\n",
       "      <td>Natural Gas Deliveries to Commercial Consumers...</td>\n",
       "      <td>1691.0</td>\n",
       "      <td>MMCF</td>\n",
       "    </tr>\n",
       "    <tr>\n",
       "      <th>2014-01-01</th>\n",
       "      <td>2014</td>\n",
       "      <td>1</td>\n",
       "      <td>SOR</td>\n",
       "      <td>USA-OR</td>\n",
       "      <td>EPG0</td>\n",
       "      <td>Natural Gas</td>\n",
       "      <td>VCS</td>\n",
       "      <td>Commercial Consumption</td>\n",
       "      <td>N3020OR2</td>\n",
       "      <td>Natural Gas Deliveries to Commercial Consumers...</td>\n",
       "      <td>4711.0</td>\n",
       "      <td>MMCF</td>\n",
       "    </tr>\n",
       "    <tr>\n",
       "      <th>2014-01-01</th>\n",
       "      <td>2014</td>\n",
       "      <td>1</td>\n",
       "      <td>SDE</td>\n",
       "      <td>USA-DE</td>\n",
       "      <td>EPG0</td>\n",
       "      <td>Natural Gas</td>\n",
       "      <td>VCS</td>\n",
       "      <td>Commercial Consumption</td>\n",
       "      <td>N3020DE2</td>\n",
       "      <td>Natural Gas Deliveries to Commercial Consumers...</td>\n",
       "      <td>2128.0</td>\n",
       "      <td>MMCF</td>\n",
       "    </tr>\n",
       "    <tr>\n",
       "      <th>2014-01-01</th>\n",
       "      <td>2014</td>\n",
       "      <td>1</td>\n",
       "      <td>SAZ</td>\n",
       "      <td>USA-AZ</td>\n",
       "      <td>EPG0</td>\n",
       "      <td>Natural Gas</td>\n",
       "      <td>VCS</td>\n",
       "      <td>Commercial Consumption</td>\n",
       "      <td>N3020AZ2</td>\n",
       "      <td>Natural Gas Deliveries to Commercial Consumers...</td>\n",
       "      <td>3915.0</td>\n",
       "      <td>MMCF</td>\n",
       "    </tr>\n",
       "  </tbody>\n",
       "</table>\n",
       "</div>"
      ],
      "text/plain": [
       "            year  month duoarea area-name product product-name process            process-name    series                                 series-description   value units\n",
       "date                                                                                                                                                                     \n",
       "2014-01-01  2014      1     SFL   FLORIDA    EPG0  Natural Gas     VCS  Commercial Consumption  N3020FL2  Natural Gas Deliveries to Commercial Consumers...  6605.0  MMCF\n",
       "2014-01-01  2014      1     SNH    USA-NH    EPG0  Natural Gas     VCS  Commercial Consumption  N3020NH2  Natural Gas Deliveries to Commercial Consumers...  1691.0  MMCF\n",
       "2014-01-01  2014      1     SOR    USA-OR    EPG0  Natural Gas     VCS  Commercial Consumption  N3020OR2  Natural Gas Deliveries to Commercial Consumers...  4711.0  MMCF\n",
       "2014-01-01  2014      1     SDE    USA-DE    EPG0  Natural Gas     VCS  Commercial Consumption  N3020DE2  Natural Gas Deliveries to Commercial Consumers...  2128.0  MMCF\n",
       "2014-01-01  2014      1     SAZ    USA-AZ    EPG0  Natural Gas     VCS  Commercial Consumption  N3020AZ2  Natural Gas Deliveries to Commercial Consumers...  3915.0  MMCF"
      ]
     },
     "execution_count": 48,
     "metadata": {},
     "output_type": "execute_result"
    }
   ],
   "source": [
    "# check df head\n",
    "\n",
    "df.head()"
   ]
  },
  {
   "cell_type": "markdown",
   "id": "21261811",
   "metadata": {},
   "source": [
    "### 3.5. Dropping Unnecessary Columns"
   ]
  },
  {
   "cell_type": "code",
   "execution_count": 49,
   "id": "e7cc48d8",
   "metadata": {},
   "outputs": [
    {
     "data": {
      "text/plain": [
       "1"
      ]
     },
     "execution_count": 49,
     "metadata": {},
     "output_type": "execute_result"
    }
   ],
   "source": [
    "# check the number of unique products in the product column\n",
    "\n",
    "df[\"product\"].nunique()"
   ]
  },
  {
   "cell_type": "code",
   "execution_count": 50,
   "id": "f1f30916",
   "metadata": {},
   "outputs": [],
   "source": [
    "# as there is only one product, we can drop the product column\n",
    "\n",
    "df = df.drop(columns=['product'])"
   ]
  },
  {
   "cell_type": "code",
   "execution_count": 51,
   "id": "5a3507fc",
   "metadata": {},
   "outputs": [
    {
     "data": {
      "text/plain": [
       "1"
      ]
     },
     "execution_count": 51,
     "metadata": {},
     "output_type": "execute_result"
    }
   ],
   "source": [
    "# check the number of unique products in the product-name column\n",
    "\n",
    "df[\"product-name\"].nunique()"
   ]
  },
  {
   "cell_type": "code",
   "execution_count": 52,
   "id": "5081c96f",
   "metadata": {},
   "outputs": [],
   "source": [
    "# as there is only one product, we can drop the product column\n",
    "\n",
    "df = df.drop(columns=['product-name'])"
   ]
  },
  {
   "cell_type": "code",
   "execution_count": 53,
   "id": "07f900b0",
   "metadata": {},
   "outputs": [],
   "source": [
    "# series and series-description are out of scope for this analysis, so we can drop them\n",
    "\n",
    "df = df.drop(columns=['series', 'series-description'])"
   ]
  },
  {
   "cell_type": "code",
   "execution_count": 54,
   "id": "8237386e",
   "metadata": {},
   "outputs": [
    {
     "data": {
      "text/plain": [
       "array(['Commercial Consumption', 'Vehicle Fuel Consumption',\n",
       "       'Delivered to Consumers', 'Industrial Consumption',\n",
       "       'Residential Consumption', 'Electric Power Consumption',\n",
       "       'Pipeline Fuel Consumption', 'Lease and Plant Fuel Consumption'],\n",
       "      dtype=object)"
      ]
     },
     "execution_count": 54,
     "metadata": {},
     "output_type": "execute_result"
    }
   ],
   "source": [
    "# drop the columns that are neither residential nor commercial consumption as they are not relevant for this analysis\n",
    "df[\"process-name\"].unique()\n"
   ]
  },
  {
   "cell_type": "code",
   "execution_count": 55,
   "id": "5d73319d",
   "metadata": {},
   "outputs": [],
   "source": [
    "# filter the dataframe to keep only the rows where process-name is either 'Residential Consumption' or 'Commercial Consumption'\n",
    "\n",
    "df = df[df[\"process-name\"].isin([\"Residential Consumption\", \"Commercial Consumption\"])]"
   ]
  },
  {
   "cell_type": "code",
   "execution_count": 56,
   "id": "66e885ce",
   "metadata": {},
   "outputs": [
    {
     "data": {
      "text/plain": [
       "array(['Commercial Consumption', 'Residential Consumption'], dtype=object)"
      ]
     },
     "execution_count": 56,
     "metadata": {},
     "output_type": "execute_result"
    }
   ],
   "source": [
    "# check if only commercial and residential consumption are left in the process-name column\n",
    "\n",
    "df[\"process-name\"].unique()"
   ]
  },
  {
   "cell_type": "code",
   "execution_count": 57,
   "id": "80f91da6",
   "metadata": {},
   "outputs": [
    {
     "name": "stdout",
     "output_type": "stream",
     "text": [
      "<class 'pandas.core.frame.DataFrame'>\n",
      "DatetimeIndex: 12558 entries, 2014-01-01 to 2024-01-01\n",
      "Data columns (total 8 columns):\n",
      " #   Column        Non-Null Count  Dtype  \n",
      "---  ------        --------------  -----  \n",
      " 0   year          12558 non-null  int16  \n",
      " 1   month         12558 non-null  int8   \n",
      " 2   duoarea       12558 non-null  object \n",
      " 3   area-name     12558 non-null  object \n",
      " 4   process       12558 non-null  object \n",
      " 5   process-name  12558 non-null  object \n",
      " 6   value         12558 non-null  float32\n",
      " 7   units         12558 non-null  object \n",
      "dtypes: float32(1), int16(1), int8(1), object(5)\n",
      "memory usage: 674.5+ KB\n"
     ]
    }
   ],
   "source": [
    "# check the df information again\n",
    "\n",
    "df.info()"
   ]
  },
  {
   "cell_type": "markdown",
   "id": "35e4b27d",
   "metadata": {},
   "source": [
    "### 3.6. Changing Column Names"
   ]
  },
  {
   "cell_type": "code",
   "execution_count": 58,
   "id": "5b1a74a0",
   "metadata": {},
   "outputs": [],
   "source": [
    "# make the duoarea column more readable by changing its name to 'area'\n",
    "\n",
    "df = df.rename(columns={'duoarea': 'area'})"
   ]
  },
  {
   "cell_type": "code",
   "execution_count": 59,
   "id": "372b60a0",
   "metadata": {},
   "outputs": [
    {
     "data": {
      "text/html": [
       "<div>\n",
       "<style scoped>\n",
       "    .dataframe tbody tr th:only-of-type {\n",
       "        vertical-align: middle;\n",
       "    }\n",
       "\n",
       "    .dataframe tbody tr th {\n",
       "        vertical-align: top;\n",
       "    }\n",
       "\n",
       "    .dataframe thead th {\n",
       "        text-align: right;\n",
       "    }\n",
       "</style>\n",
       "<table border=\"1\" class=\"dataframe\">\n",
       "  <thead>\n",
       "    <tr style=\"text-align: right;\">\n",
       "      <th></th>\n",
       "      <th>year</th>\n",
       "      <th>month</th>\n",
       "      <th>area</th>\n",
       "      <th>area-name</th>\n",
       "      <th>process</th>\n",
       "      <th>process-name</th>\n",
       "      <th>value</th>\n",
       "      <th>units</th>\n",
       "    </tr>\n",
       "    <tr>\n",
       "      <th>date</th>\n",
       "      <th></th>\n",
       "      <th></th>\n",
       "      <th></th>\n",
       "      <th></th>\n",
       "      <th></th>\n",
       "      <th></th>\n",
       "      <th></th>\n",
       "      <th></th>\n",
       "    </tr>\n",
       "  </thead>\n",
       "  <tbody>\n",
       "    <tr>\n",
       "      <th>2014-01-01</th>\n",
       "      <td>2014</td>\n",
       "      <td>1</td>\n",
       "      <td>SFL</td>\n",
       "      <td>FLORIDA</td>\n",
       "      <td>VCS</td>\n",
       "      <td>Commercial Consumption</td>\n",
       "      <td>6605.0</td>\n",
       "      <td>MMCF</td>\n",
       "    </tr>\n",
       "    <tr>\n",
       "      <th>2014-01-01</th>\n",
       "      <td>2014</td>\n",
       "      <td>1</td>\n",
       "      <td>SNH</td>\n",
       "      <td>USA-NH</td>\n",
       "      <td>VCS</td>\n",
       "      <td>Commercial Consumption</td>\n",
       "      <td>1691.0</td>\n",
       "      <td>MMCF</td>\n",
       "    </tr>\n",
       "    <tr>\n",
       "      <th>2014-01-01</th>\n",
       "      <td>2014</td>\n",
       "      <td>1</td>\n",
       "      <td>SOR</td>\n",
       "      <td>USA-OR</td>\n",
       "      <td>VCS</td>\n",
       "      <td>Commercial Consumption</td>\n",
       "      <td>4711.0</td>\n",
       "      <td>MMCF</td>\n",
       "    </tr>\n",
       "    <tr>\n",
       "      <th>2014-01-01</th>\n",
       "      <td>2014</td>\n",
       "      <td>1</td>\n",
       "      <td>SDE</td>\n",
       "      <td>USA-DE</td>\n",
       "      <td>VCS</td>\n",
       "      <td>Commercial Consumption</td>\n",
       "      <td>2128.0</td>\n",
       "      <td>MMCF</td>\n",
       "    </tr>\n",
       "    <tr>\n",
       "      <th>2014-01-01</th>\n",
       "      <td>2014</td>\n",
       "      <td>1</td>\n",
       "      <td>SAZ</td>\n",
       "      <td>USA-AZ</td>\n",
       "      <td>VCS</td>\n",
       "      <td>Commercial Consumption</td>\n",
       "      <td>3915.0</td>\n",
       "      <td>MMCF</td>\n",
       "    </tr>\n",
       "  </tbody>\n",
       "</table>\n",
       "</div>"
      ],
      "text/plain": [
       "            year  month area area-name process            process-name   value units\n",
       "date                                                                                \n",
       "2014-01-01  2014      1  SFL   FLORIDA     VCS  Commercial Consumption  6605.0  MMCF\n",
       "2014-01-01  2014      1  SNH    USA-NH     VCS  Commercial Consumption  1691.0  MMCF\n",
       "2014-01-01  2014      1  SOR    USA-OR     VCS  Commercial Consumption  4711.0  MMCF\n",
       "2014-01-01  2014      1  SDE    USA-DE     VCS  Commercial Consumption  2128.0  MMCF\n",
       "2014-01-01  2014      1  SAZ    USA-AZ     VCS  Commercial Consumption  3915.0  MMCF"
      ]
     },
     "execution_count": 59,
     "metadata": {},
     "output_type": "execute_result"
    }
   ],
   "source": [
    "# check the df \n",
    "\n",
    "df.head()"
   ]
  },
  {
   "cell_type": "code",
   "execution_count": 63,
   "id": "520ff568",
   "metadata": {},
   "outputs": [
    {
     "name": "stdout",
     "output_type": "stream",
     "text": [
      "<class 'pandas.core.frame.DataFrame'>\n",
      "DatetimeIndex: 12558 entries, 2014-01-01 to 2024-01-01\n",
      "Data columns (total 8 columns):\n",
      " #   Column        Non-Null Count  Dtype  \n",
      "---  ------        --------------  -----  \n",
      " 0   year          12558 non-null  int16  \n",
      " 1   month         12558 non-null  int8   \n",
      " 2   area          12558 non-null  object \n",
      " 3   area-name     12558 non-null  object \n",
      " 4   process       12558 non-null  object \n",
      " 5   process-name  12558 non-null  object \n",
      " 6   value         12558 non-null  float32\n",
      " 7   units         12558 non-null  object \n",
      "dtypes: float32(1), int16(1), int8(1), object(5)\n",
      "memory usage: 674.5+ KB\n"
     ]
    }
   ],
   "source": [
    "# checking the df last time before exporting\n",
    "\n",
    "df.info()"
   ]
  },
  {
   "cell_type": "code",
   "execution_count": 64,
   "id": "d332de60",
   "metadata": {},
   "outputs": [
    {
     "data": {
      "text/html": [
       "<div>\n",
       "<style scoped>\n",
       "    .dataframe tbody tr th:only-of-type {\n",
       "        vertical-align: middle;\n",
       "    }\n",
       "\n",
       "    .dataframe tbody tr th {\n",
       "        vertical-align: top;\n",
       "    }\n",
       "\n",
       "    .dataframe thead th {\n",
       "        text-align: right;\n",
       "    }\n",
       "</style>\n",
       "<table border=\"1\" class=\"dataframe\">\n",
       "  <thead>\n",
       "    <tr style=\"text-align: right;\">\n",
       "      <th></th>\n",
       "      <th>year</th>\n",
       "      <th>month</th>\n",
       "      <th>area</th>\n",
       "      <th>area-name</th>\n",
       "      <th>process</th>\n",
       "      <th>process-name</th>\n",
       "      <th>value</th>\n",
       "      <th>units</th>\n",
       "    </tr>\n",
       "    <tr>\n",
       "      <th>date</th>\n",
       "      <th></th>\n",
       "      <th></th>\n",
       "      <th></th>\n",
       "      <th></th>\n",
       "      <th></th>\n",
       "      <th></th>\n",
       "      <th></th>\n",
       "      <th></th>\n",
       "    </tr>\n",
       "  </thead>\n",
       "  <tbody>\n",
       "    <tr>\n",
       "      <th>2014-01-01</th>\n",
       "      <td>2014</td>\n",
       "      <td>1</td>\n",
       "      <td>SFL</td>\n",
       "      <td>FLORIDA</td>\n",
       "      <td>VCS</td>\n",
       "      <td>Commercial Consumption</td>\n",
       "      <td>6605.0</td>\n",
       "      <td>MMCF</td>\n",
       "    </tr>\n",
       "    <tr>\n",
       "      <th>2014-01-01</th>\n",
       "      <td>2014</td>\n",
       "      <td>1</td>\n",
       "      <td>SNH</td>\n",
       "      <td>USA-NH</td>\n",
       "      <td>VCS</td>\n",
       "      <td>Commercial Consumption</td>\n",
       "      <td>1691.0</td>\n",
       "      <td>MMCF</td>\n",
       "    </tr>\n",
       "    <tr>\n",
       "      <th>2014-01-01</th>\n",
       "      <td>2014</td>\n",
       "      <td>1</td>\n",
       "      <td>SOR</td>\n",
       "      <td>USA-OR</td>\n",
       "      <td>VCS</td>\n",
       "      <td>Commercial Consumption</td>\n",
       "      <td>4711.0</td>\n",
       "      <td>MMCF</td>\n",
       "    </tr>\n",
       "    <tr>\n",
       "      <th>2014-01-01</th>\n",
       "      <td>2014</td>\n",
       "      <td>1</td>\n",
       "      <td>SDE</td>\n",
       "      <td>USA-DE</td>\n",
       "      <td>VCS</td>\n",
       "      <td>Commercial Consumption</td>\n",
       "      <td>2128.0</td>\n",
       "      <td>MMCF</td>\n",
       "    </tr>\n",
       "    <tr>\n",
       "      <th>2014-01-01</th>\n",
       "      <td>2014</td>\n",
       "      <td>1</td>\n",
       "      <td>SAZ</td>\n",
       "      <td>USA-AZ</td>\n",
       "      <td>VCS</td>\n",
       "      <td>Commercial Consumption</td>\n",
       "      <td>3915.0</td>\n",
       "      <td>MMCF</td>\n",
       "    </tr>\n",
       "  </tbody>\n",
       "</table>\n",
       "</div>"
      ],
      "text/plain": [
       "            year  month area area-name process            process-name   value units\n",
       "date                                                                                \n",
       "2014-01-01  2014      1  SFL   FLORIDA     VCS  Commercial Consumption  6605.0  MMCF\n",
       "2014-01-01  2014      1  SNH    USA-NH     VCS  Commercial Consumption  1691.0  MMCF\n",
       "2014-01-01  2014      1  SOR    USA-OR     VCS  Commercial Consumption  4711.0  MMCF\n",
       "2014-01-01  2014      1  SDE    USA-DE     VCS  Commercial Consumption  2128.0  MMCF\n",
       "2014-01-01  2014      1  SAZ    USA-AZ     VCS  Commercial Consumption  3915.0  MMCF"
      ]
     },
     "execution_count": 64,
     "metadata": {},
     "output_type": "execute_result"
    }
   ],
   "source": [
    "# checking the head \n",
    "\n",
    "df.head()"
   ]
  },
  {
   "cell_type": "code",
   "execution_count": 65,
   "id": "7c2b9a36",
   "metadata": {},
   "outputs": [
    {
     "data": {
      "text/plain": [
       "(12558, 8)"
      ]
     },
     "execution_count": 65,
     "metadata": {},
     "output_type": "execute_result"
    }
   ],
   "source": [
    "# checking the shape\n",
    "\n",
    "df.shape"
   ]
  },
  {
   "cell_type": "markdown",
   "id": "9186468f",
   "metadata": {},
   "source": [
    "## 4. Exporting Data"
   ]
  },
  {
   "cell_type": "code",
   "execution_count": 67,
   "id": "a989493a",
   "metadata": {},
   "outputs": [],
   "source": [
    "df.to_parquet(os.path.join(path, \"prepared_data\", \"gas_data_cleaned.parquet\"))"
   ]
  },
  {
   "cell_type": "code",
   "execution_count": null,
   "id": "ebe3813b",
   "metadata": {},
   "outputs": [],
   "source": []
  }
 ],
 "metadata": {
  "kernelspec": {
   "display_name": "us_gas_venv",
   "language": "python",
   "name": "python3"
  },
  "language_info": {
   "codemirror_mode": {
    "name": "ipython",
    "version": 3
   },
   "file_extension": ".py",
   "mimetype": "text/x-python",
   "name": "python",
   "nbconvert_exporter": "python",
   "pygments_lexer": "ipython3",
   "version": "3.13.2"
  }
 },
 "nbformat": 4,
 "nbformat_minor": 5
}
