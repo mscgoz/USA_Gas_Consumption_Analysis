{
 "cells": [
  {
   "cell_type": "markdown",
   "id": "ee3084bc",
   "metadata": {},
   "source": [
    "# Table of Contents\n",
    "\n",
    "## 1. Importing Data\n",
    "## 2. Data Overview\n",
    "## 3. Data Wrangling\n",
    "## 4. Exporting Data"
   ]
  },
  {
   "cell_type": "markdown",
   "id": "bf53c8b7",
   "metadata": {},
   "source": [
    "---\n",
    "## 1. Importing Data"
   ]
  },
  {
   "cell_type": "code",
   "execution_count": 7,
   "id": "dfad18b6",
   "metadata": {},
   "outputs": [],
   "source": [
    "# load libraries\n",
    "\n",
    "import pandas as pd\n",
    "import os"
   ]
  },
  {
   "cell_type": "code",
   "execution_count": null,
   "id": "ac50918a",
   "metadata": {},
   "outputs": [],
   "source": [
    "# define path to data\n",
    "\n",
    "path = \"/Users/berkergoz/Desktop/US_Gas_Analysis/02_Data\""
   ]
  },
  {
   "cell_type": "code",
   "execution_count": null,
   "id": "fe15cdd2",
   "metadata": {},
   "outputs": [],
   "source": [
    "# define a function to load data, except path error (e.g., file not found, change the path accordingly)\n",
    "\n",
    "def load_data(path):\n",
    "    \"\"\"\n",
    "    Load data from a CSV file into a pandas DataFrame.\n",
    "    \n",
    "    Parameters:\n",
    "    path (str): The path to the CSV file.\n",
    "    \n",
    "    Returns:\n",
    "    pd.DataFrame: The loaded data as a DataFrame.\n",
    "    \"\"\"\n",
    "    try:\n",
    "        df = pd.read_csv(os.path.join(path, \"original_data\", \"gas_data.csv\"))\n",
    "        return df\n",
    "    except Exception as e:\n",
    "        print(f\"Error loading data: {e}\")\n",
    "        return None "
   ]
  },
  {
   "cell_type": "code",
   "execution_count": 9,
   "id": "f40bd8e1",
   "metadata": {},
   "outputs": [
    {
     "name": "stdout",
     "output_type": "stream",
     "text": [
      "Data loaded successfully.\n"
     ]
    }
   ],
   "source": [
    "# load the data\n",
    "df = load_data(path)\n",
    "\n",
    "# check if the data is loaded successfully\n",
    "if df is not None:\n",
    "    print(\"Data loaded successfully.\")\n",
    "else:\n",
    "    print(\"Failed to load data.\")\n",
    "    "
   ]
  },
  {
   "cell_type": "code",
   "execution_count": 17,
   "id": "fb5dcdfe",
   "metadata": {},
   "outputs": [],
   "source": [
    "# set up display options for pandas\n",
    "\n",
    "pd.set_option('display.max_columns', None)  # Show all columns\n",
    "pd.set_option('display.max_rows', None)     # Show all rows\n",
    "pd.set_option('display.width', 200)  # Show columns in a wider format"
   ]
  },
  {
   "cell_type": "markdown",
   "id": "5a652166",
   "metadata": {},
   "source": [
    "## 2. Data Overview"
   ]
  },
  {
   "cell_type": "code",
   "execution_count": 18,
   "id": "a545380c",
   "metadata": {},
   "outputs": [
    {
     "name": "stdout",
     "output_type": "stream",
     "text": [
      "   year  month duoarea area-name product product-name process            process-name    series                                 series-description   value units\n",
      "0  2014      1     SFL   FLORIDA    EPG0  Natural Gas     VCS  Commercial Consumption  N3020FL2  Natural Gas Deliveries to Commercial Consumers...  6605.0  MMCF\n",
      "1  2014      1     SNH    USA-NH    EPG0  Natural Gas     VCS  Commercial Consumption  N3020NH2  Natural Gas Deliveries to Commercial Consumers...  1691.0  MMCF\n",
      "2  2014      1     SOR    USA-OR    EPG0  Natural Gas     VCS  Commercial Consumption  N3020OR2  Natural Gas Deliveries to Commercial Consumers...  4711.0  MMCF\n",
      "3  2014      1     SDE    USA-DE    EPG0  Natural Gas     VCS  Commercial Consumption  N3020DE2  Natural Gas Deliveries to Commercial Consumers...  2128.0  MMCF\n",
      "4  2014      1     SAZ    USA-AZ    EPG0  Natural Gas     VCS  Commercial Consumption  N3020AZ2  Natural Gas Deliveries to Commercial Consumers...  3915.0  MMCF\n"
     ]
    }
   ],
   "source": [
    "# check the first few rows of the data\n",
    "\n",
    "print(df.head())"
   ]
  },
  {
   "cell_type": "code",
   "execution_count": 19,
   "id": "411fb119",
   "metadata": {},
   "outputs": [
    {
     "name": "stdout",
     "output_type": "stream",
     "text": [
      "       year  month duoarea      area-name product product-name process             process-name    series                                 series-description    value units\n",
      "37989  2024      1     SMN      MINNESOTA    EPG0  Natural Gas     VRS  Residential Consumption  N3010MN2  Minnesota Natural Gas Residential Consumption ...  24866.0  MMCF\n",
      "37990  2024      1     SNE         USA-NE    EPG0  Natural Gas     VRS  Residential Consumption  N3010NE2  Nebraska Natural Gas Residential Consumption (...   7800.0  MMCF\n",
      "37991  2024      1     SVA         USA-VA    EPG0  Natural Gas     VRS  Residential Consumption  N3010VA2  Virginia Natural Gas Residential Consumption (...  15938.0  MMCF\n",
      "37992  2024      1     SCT         USA-CT    EPG0  Natural Gas     VRS  Residential Consumption  N3010CT2  Connecticut Natural Gas Residential Consumptio...   9299.0  MMCF\n",
      "37993  2024      1     SMA  MASSACHUSETTS    EPG0  Natural Gas     VRS  Residential Consumption  N3010MA2  Massachusetts Natural Gas Residential Consumpt...  20557.0  MMCF\n"
     ]
    }
   ],
   "source": [
    "# check the last few rows of the data\n",
    "print(df.tail())"
   ]
  },
  {
   "cell_type": "markdown",
   "id": "381ad2bd",
   "metadata": {},
   "source": [
    "## 3. Data Wrangling"
   ]
  },
  {
   "cell_type": "code",
   "execution_count": null,
   "id": "bcc15800",
   "metadata": {},
   "outputs": [],
   "source": []
  }
 ],
 "metadata": {
  "kernelspec": {
   "display_name": "us_gas_venv",
   "language": "python",
   "name": "python3"
  },
  "language_info": {
   "codemirror_mode": {
    "name": "ipython",
    "version": 3
   },
   "file_extension": ".py",
   "mimetype": "text/x-python",
   "name": "python",
   "nbconvert_exporter": "python",
   "pygments_lexer": "ipython3",
   "version": "3.13.2"
  }
 },
 "nbformat": 4,
 "nbformat_minor": 5
}
