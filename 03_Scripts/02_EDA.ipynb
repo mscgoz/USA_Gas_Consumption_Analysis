{
 "cells": [
  {
   "cell_type": "markdown",
   "id": "a026833e",
   "metadata": {},
   "source": [
    "# Table of Contents\n",
    "\n",
    "## 1. Importing Data\n",
    "## 2. Post Wrangling Data Validation\n",
    "## 3. Exploratory Data Analysis\n",
    "\n",
    "### 3.1. Residential Analysis\n",
    "\n",
    "#### 3.1.1. Average Residental Natural Gas Consumption by Month in the Last 10 Years\n",
    "#### 3.1.2. Total Residential Natural Gas Consumption by Year in the Last 10 Years\n",
    "\n",
    "\n",
    "### 3.2. Commercial Analysis\n",
    "\n",
    "#### 3.1.1. Average Residental Natural Gas Consumption by Month in the Last 10 Years\n",
    "#### 3.2.2. Total Residential Natural Gas Consumption by Year in the Last 10 Years\n",
    "\n",
    "### 3.3. Comparision of Residential and Commercial Natural Gas Consumption Analysis\n",
    "\n",
    "#### 3.3.1. Comparision of Average Natural Gas Consumption by Month in the Last 10 Years\n",
    "#### 3.3.2. Comparision of Total Natural Gas Consumption by Year in the Last 10 Years\n",
    "\n",
    "### 3.4. Total Consumption Analysis\n",
    "\n",
    "#### 3.4.1. Average Natural Gas Consumption by Month in the Last 10 Years\n",
    "#### 3.4.2. Total Natural Gas Consumption by Year in the Last 10 Years\n",
    "\n",
    "## 4. Exporting Data\n",
    "\n",
    "\n",
    "\n",
    "\n",
    "\n"
   ]
  },
  {
   "cell_type": "markdown",
   "id": "80dc63cf",
   "metadata": {},
   "source": [
    "---\n",
    "## 1. Importing Data\n"
   ]
  },
  {
   "cell_type": "code",
   "execution_count": 39,
   "id": "62b88969",
   "metadata": {},
   "outputs": [],
   "source": [
    "# import libraries\n",
    "\n",
    "import os\n",
    "import pandas as pd\n",
    "import seaborn as sns\n",
    "import matplotlib.pyplot as plt\n",
    "import numpy as np"
   ]
  },
  {
   "cell_type": "code",
   "execution_count": 74,
   "id": "9d25dc76",
   "metadata": {},
   "outputs": [],
   "source": [
    "# define the path to the data directory\n",
    "\n",
    "path = r'/Users/berkergoz/Desktop/US_Gas_Analysis'"
   ]
  },
  {
   "cell_type": "code",
   "execution_count": null,
   "id": "70b3409a",
   "metadata": {},
   "outputs": [],
   "source": [
    "# load the data\n",
    "\n",
    "df = pd.read_parquet(os.path.join(path, '02_Data', 'prepared_data', 'gas_data_cleaned.parquet'))"
   ]
  },
  {
   "cell_type": "code",
   "execution_count": 9,
   "id": "7538f168",
   "metadata": {},
   "outputs": [
    {
     "data": {
      "text/html": [
       "<div>\n",
       "<style scoped>\n",
       "    .dataframe tbody tr th:only-of-type {\n",
       "        vertical-align: middle;\n",
       "    }\n",
       "\n",
       "    .dataframe tbody tr th {\n",
       "        vertical-align: top;\n",
       "    }\n",
       "\n",
       "    .dataframe thead th {\n",
       "        text-align: right;\n",
       "    }\n",
       "</style>\n",
       "<table border=\"1\" class=\"dataframe\">\n",
       "  <thead>\n",
       "    <tr style=\"text-align: right;\">\n",
       "      <th></th>\n",
       "      <th>year</th>\n",
       "      <th>month</th>\n",
       "      <th>area</th>\n",
       "      <th>area-name</th>\n",
       "      <th>process</th>\n",
       "      <th>process-name</th>\n",
       "      <th>value</th>\n",
       "      <th>units</th>\n",
       "    </tr>\n",
       "    <tr>\n",
       "      <th>date</th>\n",
       "      <th></th>\n",
       "      <th></th>\n",
       "      <th></th>\n",
       "      <th></th>\n",
       "      <th></th>\n",
       "      <th></th>\n",
       "      <th></th>\n",
       "      <th></th>\n",
       "    </tr>\n",
       "  </thead>\n",
       "  <tbody>\n",
       "    <tr>\n",
       "      <th>2014-01-01</th>\n",
       "      <td>2014</td>\n",
       "      <td>1</td>\n",
       "      <td>SFL</td>\n",
       "      <td>FLORIDA</td>\n",
       "      <td>VCS</td>\n",
       "      <td>Commercial Consumption</td>\n",
       "      <td>6605.0</td>\n",
       "      <td>MMCF</td>\n",
       "    </tr>\n",
       "    <tr>\n",
       "      <th>2014-01-01</th>\n",
       "      <td>2014</td>\n",
       "      <td>1</td>\n",
       "      <td>SNH</td>\n",
       "      <td>USA-NH</td>\n",
       "      <td>VCS</td>\n",
       "      <td>Commercial Consumption</td>\n",
       "      <td>1691.0</td>\n",
       "      <td>MMCF</td>\n",
       "    </tr>\n",
       "    <tr>\n",
       "      <th>2014-01-01</th>\n",
       "      <td>2014</td>\n",
       "      <td>1</td>\n",
       "      <td>SOR</td>\n",
       "      <td>USA-OR</td>\n",
       "      <td>VCS</td>\n",
       "      <td>Commercial Consumption</td>\n",
       "      <td>4711.0</td>\n",
       "      <td>MMCF</td>\n",
       "    </tr>\n",
       "    <tr>\n",
       "      <th>2014-01-01</th>\n",
       "      <td>2014</td>\n",
       "      <td>1</td>\n",
       "      <td>SDE</td>\n",
       "      <td>USA-DE</td>\n",
       "      <td>VCS</td>\n",
       "      <td>Commercial Consumption</td>\n",
       "      <td>2128.0</td>\n",
       "      <td>MMCF</td>\n",
       "    </tr>\n",
       "    <tr>\n",
       "      <th>2014-01-01</th>\n",
       "      <td>2014</td>\n",
       "      <td>1</td>\n",
       "      <td>SAZ</td>\n",
       "      <td>USA-AZ</td>\n",
       "      <td>VCS</td>\n",
       "      <td>Commercial Consumption</td>\n",
       "      <td>3915.0</td>\n",
       "      <td>MMCF</td>\n",
       "    </tr>\n",
       "  </tbody>\n",
       "</table>\n",
       "</div>"
      ],
      "text/plain": [
       "            year  month area area-name process            process-name  \\\n",
       "date                                                                     \n",
       "2014-01-01  2014      1  SFL   FLORIDA     VCS  Commercial Consumption   \n",
       "2014-01-01  2014      1  SNH    USA-NH     VCS  Commercial Consumption   \n",
       "2014-01-01  2014      1  SOR    USA-OR     VCS  Commercial Consumption   \n",
       "2014-01-01  2014      1  SDE    USA-DE     VCS  Commercial Consumption   \n",
       "2014-01-01  2014      1  SAZ    USA-AZ     VCS  Commercial Consumption   \n",
       "\n",
       "             value units  \n",
       "date                      \n",
       "2014-01-01  6605.0  MMCF  \n",
       "2014-01-01  1691.0  MMCF  \n",
       "2014-01-01  4711.0  MMCF  \n",
       "2014-01-01  2128.0  MMCF  \n",
       "2014-01-01  3915.0  MMCF  "
      ]
     },
     "execution_count": 9,
     "metadata": {},
     "output_type": "execute_result"
    }
   ],
   "source": [
    "# check the first few rows of the dataframe\n",
    "\n",
    "df.head()"
   ]
  },
  {
   "cell_type": "markdown",
   "id": "e139044a",
   "metadata": {},
   "source": [
    "---\n",
    "## 2. Post Wrangling Data Validation"
   ]
  },
  {
   "cell_type": "markdown",
   "id": "b0ce0f17",
   "metadata": {},
   "source": [
    "### 2.1. Negative Values Control"
   ]
  },
  {
   "cell_type": "code",
   "execution_count": 20,
   "id": "cae196c9",
   "metadata": {},
   "outputs": [
    {
     "data": {
      "text/plain": [
       "Series([], Name: count, dtype: int64)"
      ]
     },
     "execution_count": 20,
     "metadata": {},
     "output_type": "execute_result"
    }
   ],
   "source": [
    "# check if there are any negative values in the 'value' column\n",
    "\n",
    "df[df['value'] < 0].value_counts()"
   ]
  },
  {
   "cell_type": "markdown",
   "id": "6dde1a01",
   "metadata": {},
   "source": [
    "### 2.2. Time Range Control"
   ]
  },
  {
   "cell_type": "code",
   "execution_count": 31,
   "id": "df0d56c0",
   "metadata": {},
   "outputs": [
    {
     "data": {
      "text/plain": [
       "Timestamp('2014-01-01 00:00:00')"
      ]
     },
     "execution_count": 31,
     "metadata": {},
     "output_type": "execute_result"
    }
   ],
   "source": [
    "# check the minimum value of date column\n",
    "\n",
    "df.index.min() # the date column is index, so we can use df.index.min()"
   ]
  },
  {
   "cell_type": "code",
   "execution_count": 29,
   "id": "37b2e3f1",
   "metadata": {},
   "outputs": [
    {
     "data": {
      "text/plain": [
       "Timestamp('2024-01-01 00:00:00')"
      ]
     },
     "execution_count": 29,
     "metadata": {},
     "output_type": "execute_result"
    }
   ],
   "source": [
    "# check the minimum value of date column\n",
    "\n",
    "df.index.max()"
   ]
  },
  {
   "cell_type": "markdown",
   "id": "67e789f6",
   "metadata": {},
   "source": [
    "### 2.3. Outliers Control"
   ]
  },
  {
   "cell_type": "code",
   "execution_count": 32,
   "id": "fdd6c9cd",
   "metadata": {},
   "outputs": [
    {
     "data": {
      "text/html": [
       "<div>\n",
       "<style scoped>\n",
       "    .dataframe tbody tr th:only-of-type {\n",
       "        vertical-align: middle;\n",
       "    }\n",
       "\n",
       "    .dataframe tbody tr th {\n",
       "        vertical-align: top;\n",
       "    }\n",
       "\n",
       "    .dataframe thead th {\n",
       "        text-align: right;\n",
       "    }\n",
       "</style>\n",
       "<table border=\"1\" class=\"dataframe\">\n",
       "  <thead>\n",
       "    <tr style=\"text-align: right;\">\n",
       "      <th></th>\n",
       "      <th>year</th>\n",
       "      <th>month</th>\n",
       "      <th>value</th>\n",
       "    </tr>\n",
       "  </thead>\n",
       "  <tbody>\n",
       "    <tr>\n",
       "      <th>count</th>\n",
       "      <td>12558.000000</td>\n",
       "      <td>12558.000000</td>\n",
       "      <td>1.255800e+04</td>\n",
       "    </tr>\n",
       "    <tr>\n",
       "      <th>mean</th>\n",
       "      <td>2018.535754</td>\n",
       "      <td>6.451744</td>\n",
       "      <td>1.304209e+04</td>\n",
       "    </tr>\n",
       "    <tr>\n",
       "      <th>std</th>\n",
       "      <td>2.898614</td>\n",
       "      <td>3.471981</td>\n",
       "      <td>5.707661e+04</td>\n",
       "    </tr>\n",
       "    <tr>\n",
       "      <th>min</th>\n",
       "      <td>2014.000000</td>\n",
       "      <td>1.000000</td>\n",
       "      <td>4.100000e+01</td>\n",
       "    </tr>\n",
       "    <tr>\n",
       "      <th>25%</th>\n",
       "      <td>2016.000000</td>\n",
       "      <td>3.000000</td>\n",
       "      <td>1.251250e+03</td>\n",
       "    </tr>\n",
       "    <tr>\n",
       "      <th>50%</th>\n",
       "      <td>2019.000000</td>\n",
       "      <td>6.000000</td>\n",
       "      <td>2.879000e+03</td>\n",
       "    </tr>\n",
       "    <tr>\n",
       "      <th>75%</th>\n",
       "      <td>2021.000000</td>\n",
       "      <td>9.000000</td>\n",
       "      <td>7.730250e+03</td>\n",
       "    </tr>\n",
       "    <tr>\n",
       "      <th>max</th>\n",
       "      <td>2024.000000</td>\n",
       "      <td>12.000000</td>\n",
       "      <td>1.037197e+06</td>\n",
       "    </tr>\n",
       "  </tbody>\n",
       "</table>\n",
       "</div>"
      ],
      "text/plain": [
       "               year         month         value\n",
       "count  12558.000000  12558.000000  1.255800e+04\n",
       "mean    2018.535754      6.451744  1.304209e+04\n",
       "std        2.898614      3.471981  5.707661e+04\n",
       "min     2014.000000      1.000000  4.100000e+01\n",
       "25%     2016.000000      3.000000  1.251250e+03\n",
       "50%     2019.000000      6.000000  2.879000e+03\n",
       "75%     2021.000000      9.000000  7.730250e+03\n",
       "max     2024.000000     12.000000  1.037197e+06"
      ]
     },
     "execution_count": 32,
     "metadata": {},
     "output_type": "execute_result"
    }
   ],
   "source": [
    "# check the descriptive analysis of the dataframe\n",
    "\n",
    "df.describe()"
   ]
  },
  {
   "cell_type": "code",
   "execution_count": 36,
   "id": "613f73c5",
   "metadata": {},
   "outputs": [
    {
     "data": {
      "text/plain": [
       "count       12,558\n",
       "mean        13,042\n",
       "std         57,077\n",
       "min             41\n",
       "25%          1,251\n",
       "50%          2,879\n",
       "75%          7,730\n",
       "max      1,037,197\n",
       "Name: value, dtype: object"
      ]
     },
     "execution_count": 36,
     "metadata": {},
     "output_type": "execute_result"
    }
   ],
   "source": [
    "# increase readability of the descriptive analysis\n",
    "\n",
    "df[\"value\"].describe().apply(lambda x: f\"{x:,.0f}\")\n"
   ]
  },
  {
   "cell_type": "code",
   "execution_count": 37,
   "id": "8f55f6d7",
   "metadata": {},
   "outputs": [
    {
     "data": {
      "image/png": "[encoded data removed]",
      "text/plain": [
       "<Figure size 640x480 with 1 Axes>"
      ]
     },
     "metadata": {},
     "output_type": "display_data"
    }
   ],
   "source": [
    "# viusalize outliers in the 'values' \n",
    "\n",
    "sns.boxplot(x=df['value'])\n",
    "plt.show()"
   ]
  },
  {
   "cell_type": "code",
   "execution_count": 78,
   "id": "528a2ff8",
   "metadata": {},
   "outputs": [
    {
     "data": {
      "image/png": "[encoded data removed]",
      "text/plain": [
       "<Figure size 640x480 with 1 Axes>"
      ]
     },
     "metadata": {},
     "output_type": "display_data"
    }
   ],
   "source": [
    "# visualize the distribution of the 'value' column in log scale to address outliers better\n",
    "\n",
    "# Create a figure and axis for better control\n",
    "fig, ax = plt.subplots()\n",
    "\n",
    "# Plot the boxplot on the axis\n",
    "sns.boxplot(x=np.log1p(df[\"value\"]), ax=ax)\n",
    "\n",
    "# Add title and label\n",
    "ax.set_title(\"Boxplot of 'value'\")\n",
    "ax.set_xlabel(\"Log(MMCF)\")\n",
    "\n",
    "# Show the plot\n",
    "plt.show()"
   ]
  },
  {
   "cell_type": "code",
   "execution_count": 79,
   "id": "3181c858",
   "metadata": {},
   "outputs": [],
   "source": [
    "# save the fig\n",
    "\n",
    "fig.savefig(os.path.join(path, '04_Visualizations', 'boxplot_value.png'))"
   ]
  },
  {
   "cell_type": "code",
   "execution_count": 52,
   "id": "2a9560c8",
   "metadata": {},
   "outputs": [
    {
     "data": {
      "text/html": [
       "<div>\n",
       "<style scoped>\n",
       "    .dataframe tbody tr th:only-of-type {\n",
       "        vertical-align: middle;\n",
       "    }\n",
       "\n",
       "    .dataframe tbody tr th {\n",
       "        vertical-align: top;\n",
       "    }\n",
       "\n",
       "    .dataframe thead th {\n",
       "        text-align: right;\n",
       "    }\n",
       "</style>\n",
       "<table border=\"1\" class=\"dataframe\">\n",
       "  <thead>\n",
       "    <tr style=\"text-align: right;\">\n",
       "      <th></th>\n",
       "      <th>year</th>\n",
       "      <th>month</th>\n",
       "      <th>area</th>\n",
       "      <th>area-name</th>\n",
       "      <th>process</th>\n",
       "      <th>process-name</th>\n",
       "      <th>value</th>\n",
       "      <th>units</th>\n",
       "    </tr>\n",
       "    <tr>\n",
       "      <th>date</th>\n",
       "      <th></th>\n",
       "      <th></th>\n",
       "      <th></th>\n",
       "      <th></th>\n",
       "      <th></th>\n",
       "      <th></th>\n",
       "      <th></th>\n",
       "      <th></th>\n",
       "    </tr>\n",
       "  </thead>\n",
       "  <tbody>\n",
       "    <tr>\n",
       "      <th>2014-01-01</th>\n",
       "      <td>2014</td>\n",
       "      <td>1</td>\n",
       "      <td>NUS</td>\n",
       "      <td>U.S.</td>\n",
       "      <td>VRS</td>\n",
       "      <td>Residential Consumption</td>\n",
       "      <td>1037197.0</td>\n",
       "      <td>MMCF</td>\n",
       "    </tr>\n",
       "    <tr>\n",
       "      <th>2018-01-01</th>\n",
       "      <td>2018</td>\n",
       "      <td>1</td>\n",
       "      <td>NUS</td>\n",
       "      <td>U.S.</td>\n",
       "      <td>VRS</td>\n",
       "      <td>Residential Consumption</td>\n",
       "      <td>981276.0</td>\n",
       "      <td>MMCF</td>\n",
       "    </tr>\n",
       "    <tr>\n",
       "      <th>2022-01-01</th>\n",
       "      <td>2022</td>\n",
       "      <td>1</td>\n",
       "      <td>NUS</td>\n",
       "      <td>U.S.</td>\n",
       "      <td>VRS</td>\n",
       "      <td>Residential Consumption</td>\n",
       "      <td>958107.0</td>\n",
       "      <td>MMCF</td>\n",
       "    </tr>\n",
       "    <tr>\n",
       "      <th>2019-01-01</th>\n",
       "      <td>2019</td>\n",
       "      <td>1</td>\n",
       "      <td>NUS</td>\n",
       "      <td>U.S.</td>\n",
       "      <td>VRS</td>\n",
       "      <td>Residential Consumption</td>\n",
       "      <td>953787.0</td>\n",
       "      <td>MMCF</td>\n",
       "    </tr>\n",
       "    <tr>\n",
       "      <th>2015-01-01</th>\n",
       "      <td>2015</td>\n",
       "      <td>1</td>\n",
       "      <td>NUS</td>\n",
       "      <td>U.S.</td>\n",
       "      <td>VRS</td>\n",
       "      <td>Residential Consumption</td>\n",
       "      <td>937954.0</td>\n",
       "      <td>MMCF</td>\n",
       "    </tr>\n",
       "    <tr>\n",
       "      <th>2024-01-01</th>\n",
       "      <td>2024</td>\n",
       "      <td>1</td>\n",
       "      <td>NUS</td>\n",
       "      <td>U.S.</td>\n",
       "      <td>VRS</td>\n",
       "      <td>Residential Consumption</td>\n",
       "      <td>918996.0</td>\n",
       "      <td>MMCF</td>\n",
       "    </tr>\n",
       "    <tr>\n",
       "      <th>2015-02-01</th>\n",
       "      <td>2015</td>\n",
       "      <td>2</td>\n",
       "      <td>NUS</td>\n",
       "      <td>U.S.</td>\n",
       "      <td>VRS</td>\n",
       "      <td>Residential Consumption</td>\n",
       "      <td>902364.0</td>\n",
       "      <td>MMCF</td>\n",
       "    </tr>\n",
       "    <tr>\n",
       "      <th>2021-01-01</th>\n",
       "      <td>2021</td>\n",
       "      <td>1</td>\n",
       "      <td>NUS</td>\n",
       "      <td>U.S.</td>\n",
       "      <td>VRS</td>\n",
       "      <td>Residential Consumption</td>\n",
       "      <td>895265.0</td>\n",
       "      <td>MMCF</td>\n",
       "    </tr>\n",
       "    <tr>\n",
       "      <th>2016-01-01</th>\n",
       "      <td>2016</td>\n",
       "      <td>1</td>\n",
       "      <td>NUS</td>\n",
       "      <td>U.S.</td>\n",
       "      <td>VRS</td>\n",
       "      <td>Residential Consumption</td>\n",
       "      <td>878936.0</td>\n",
       "      <td>MMCF</td>\n",
       "    </tr>\n",
       "    <tr>\n",
       "      <th>2021-02-01</th>\n",
       "      <td>2021</td>\n",
       "      <td>2</td>\n",
       "      <td>NUS</td>\n",
       "      <td>U.S.</td>\n",
       "      <td>VRS</td>\n",
       "      <td>Residential Consumption</td>\n",
       "      <td>875840.0</td>\n",
       "      <td>MMCF</td>\n",
       "    </tr>\n",
       "  </tbody>\n",
       "</table>\n",
       "</div>"
      ],
      "text/plain": [
       "            year  month area area-name process             process-name  \\\n",
       "date                                                                      \n",
       "2014-01-01  2014      1  NUS      U.S.     VRS  Residential Consumption   \n",
       "2018-01-01  2018      1  NUS      U.S.     VRS  Residential Consumption   \n",
       "2022-01-01  2022      1  NUS      U.S.     VRS  Residential Consumption   \n",
       "2019-01-01  2019      1  NUS      U.S.     VRS  Residential Consumption   \n",
       "2015-01-01  2015      1  NUS      U.S.     VRS  Residential Consumption   \n",
       "2024-01-01  2024      1  NUS      U.S.     VRS  Residential Consumption   \n",
       "2015-02-01  2015      2  NUS      U.S.     VRS  Residential Consumption   \n",
       "2021-01-01  2021      1  NUS      U.S.     VRS  Residential Consumption   \n",
       "2016-01-01  2016      1  NUS      U.S.     VRS  Residential Consumption   \n",
       "2021-02-01  2021      2  NUS      U.S.     VRS  Residential Consumption   \n",
       "\n",
       "                value units  \n",
       "date                         \n",
       "2014-01-01  1037197.0  MMCF  \n",
       "2018-01-01   981276.0  MMCF  \n",
       "2022-01-01   958107.0  MMCF  \n",
       "2019-01-01   953787.0  MMCF  \n",
       "2015-01-01   937954.0  MMCF  \n",
       "2024-01-01   918996.0  MMCF  \n",
       "2015-02-01   902364.0  MMCF  \n",
       "2021-01-01   895265.0  MMCF  \n",
       "2016-01-01   878936.0  MMCF  \n",
       "2021-02-01   875840.0  MMCF  "
      ]
     },
     "execution_count": 52,
     "metadata": {},
     "output_type": "execute_result"
    }
   ],
   "source": [
    "# checking the top 10 values in ascending order to understand the maximum values\n",
    "df.sort_values(\"value\", ascending=False).head(10)"
   ]
  },
  {
   "cell_type": "code",
   "execution_count": 54,
   "id": "334ae109",
   "metadata": {},
   "outputs": [
    {
     "data": {
      "text/html": [
       "<div>\n",
       "<style scoped>\n",
       "    .dataframe tbody tr th:only-of-type {\n",
       "        vertical-align: middle;\n",
       "    }\n",
       "\n",
       "    .dataframe tbody tr th {\n",
       "        vertical-align: top;\n",
       "    }\n",
       "\n",
       "    .dataframe thead th {\n",
       "        text-align: right;\n",
       "    }\n",
       "</style>\n",
       "<table border=\"1\" class=\"dataframe\">\n",
       "  <thead>\n",
       "    <tr style=\"text-align: right;\">\n",
       "      <th></th>\n",
       "      <th>year</th>\n",
       "      <th>month</th>\n",
       "      <th>area</th>\n",
       "      <th>area-name</th>\n",
       "      <th>process</th>\n",
       "      <th>process-name</th>\n",
       "      <th>value</th>\n",
       "      <th>units</th>\n",
       "    </tr>\n",
       "    <tr>\n",
       "      <th>date</th>\n",
       "      <th></th>\n",
       "      <th></th>\n",
       "      <th></th>\n",
       "      <th></th>\n",
       "      <th></th>\n",
       "      <th></th>\n",
       "      <th></th>\n",
       "      <th></th>\n",
       "    </tr>\n",
       "  </thead>\n",
       "  <tbody>\n",
       "    <tr>\n",
       "      <th>2015-09-01</th>\n",
       "      <td>2015</td>\n",
       "      <td>9</td>\n",
       "      <td>SHI</td>\n",
       "      <td>USA-HI</td>\n",
       "      <td>VRS</td>\n",
       "      <td>Residential Consumption</td>\n",
       "      <td>41.0</td>\n",
       "      <td>MMCF</td>\n",
       "    </tr>\n",
       "    <tr>\n",
       "      <th>2014-08-01</th>\n",
       "      <td>2014</td>\n",
       "      <td>8</td>\n",
       "      <td>SME</td>\n",
       "      <td>USA-ME</td>\n",
       "      <td>VRS</td>\n",
       "      <td>Residential Consumption</td>\n",
       "      <td>41.0</td>\n",
       "      <td>MMCF</td>\n",
       "    </tr>\n",
       "    <tr>\n",
       "      <th>2014-07-01</th>\n",
       "      <td>2014</td>\n",
       "      <td>7</td>\n",
       "      <td>SME</td>\n",
       "      <td>USA-ME</td>\n",
       "      <td>VRS</td>\n",
       "      <td>Residential Consumption</td>\n",
       "      <td>41.0</td>\n",
       "      <td>MMCF</td>\n",
       "    </tr>\n",
       "    <tr>\n",
       "      <th>2017-08-01</th>\n",
       "      <td>2017</td>\n",
       "      <td>8</td>\n",
       "      <td>SHI</td>\n",
       "      <td>USA-HI</td>\n",
       "      <td>VRS</td>\n",
       "      <td>Residential Consumption</td>\n",
       "      <td>42.0</td>\n",
       "      <td>MMCF</td>\n",
       "    </tr>\n",
       "    <tr>\n",
       "      <th>2019-11-01</th>\n",
       "      <td>2019</td>\n",
       "      <td>11</td>\n",
       "      <td>SHI</td>\n",
       "      <td>USA-HI</td>\n",
       "      <td>VRS</td>\n",
       "      <td>Residential Consumption</td>\n",
       "      <td>42.0</td>\n",
       "      <td>MMCF</td>\n",
       "    </tr>\n",
       "    <tr>\n",
       "      <th>2015-08-01</th>\n",
       "      <td>2015</td>\n",
       "      <td>8</td>\n",
       "      <td>SHI</td>\n",
       "      <td>USA-HI</td>\n",
       "      <td>VRS</td>\n",
       "      <td>Residential Consumption</td>\n",
       "      <td>43.0</td>\n",
       "      <td>MMCF</td>\n",
       "    </tr>\n",
       "    <tr>\n",
       "      <th>2019-09-01</th>\n",
       "      <td>2019</td>\n",
       "      <td>9</td>\n",
       "      <td>SHI</td>\n",
       "      <td>USA-HI</td>\n",
       "      <td>VRS</td>\n",
       "      <td>Residential Consumption</td>\n",
       "      <td>43.0</td>\n",
       "      <td>MMCF</td>\n",
       "    </tr>\n",
       "    <tr>\n",
       "      <th>2014-10-01</th>\n",
       "      <td>2014</td>\n",
       "      <td>10</td>\n",
       "      <td>SHI</td>\n",
       "      <td>USA-HI</td>\n",
       "      <td>VRS</td>\n",
       "      <td>Residential Consumption</td>\n",
       "      <td>43.0</td>\n",
       "      <td>MMCF</td>\n",
       "    </tr>\n",
       "    <tr>\n",
       "      <th>2022-10-01</th>\n",
       "      <td>2022</td>\n",
       "      <td>10</td>\n",
       "      <td>SHI</td>\n",
       "      <td>USA-HI</td>\n",
       "      <td>VRS</td>\n",
       "      <td>Residential Consumption</td>\n",
       "      <td>43.0</td>\n",
       "      <td>MMCF</td>\n",
       "    </tr>\n",
       "    <tr>\n",
       "      <th>2017-07-01</th>\n",
       "      <td>2017</td>\n",
       "      <td>7</td>\n",
       "      <td>SHI</td>\n",
       "      <td>USA-HI</td>\n",
       "      <td>VRS</td>\n",
       "      <td>Residential Consumption</td>\n",
       "      <td>43.0</td>\n",
       "      <td>MMCF</td>\n",
       "    </tr>\n",
       "  </tbody>\n",
       "</table>\n",
       "</div>"
      ],
      "text/plain": [
       "            year  month area area-name process             process-name  \\\n",
       "date                                                                      \n",
       "2015-09-01  2015      9  SHI    USA-HI     VRS  Residential Consumption   \n",
       "2014-08-01  2014      8  SME    USA-ME     VRS  Residential Consumption   \n",
       "2014-07-01  2014      7  SME    USA-ME     VRS  Residential Consumption   \n",
       "2017-08-01  2017      8  SHI    USA-HI     VRS  Residential Consumption   \n",
       "2019-11-01  2019     11  SHI    USA-HI     VRS  Residential Consumption   \n",
       "2015-08-01  2015      8  SHI    USA-HI     VRS  Residential Consumption   \n",
       "2019-09-01  2019      9  SHI    USA-HI     VRS  Residential Consumption   \n",
       "2014-10-01  2014     10  SHI    USA-HI     VRS  Residential Consumption   \n",
       "2022-10-01  2022     10  SHI    USA-HI     VRS  Residential Consumption   \n",
       "2017-07-01  2017      7  SHI    USA-HI     VRS  Residential Consumption   \n",
       "\n",
       "            value units  \n",
       "date                     \n",
       "2015-09-01   41.0  MMCF  \n",
       "2014-08-01   41.0  MMCF  \n",
       "2014-07-01   41.0  MMCF  \n",
       "2017-08-01   42.0  MMCF  \n",
       "2019-11-01   42.0  MMCF  \n",
       "2015-08-01   43.0  MMCF  \n",
       "2019-09-01   43.0  MMCF  \n",
       "2014-10-01   43.0  MMCF  \n",
       "2022-10-01   43.0  MMCF  \n",
       "2017-07-01   43.0  MMCF  "
      ]
     },
     "execution_count": 54,
     "metadata": {},
     "output_type": "execute_result"
    }
   ],
   "source": [
    "# checking the tail of the data to understand the minimum values\n",
    "\n",
    "df.sort_values(\"value\", ascending=True).head(10)\n"
   ]
  },
  {
   "cell_type": "code",
   "execution_count": 55,
   "id": "248a341b",
   "metadata": {},
   "outputs": [
    {
     "data": {
      "text/plain": [
       "array(['FLORIDA', 'USA-NH', 'USA-OR', 'USA-DE', 'USA-AZ', 'USA-WV',\n",
       "       'USA-HI', 'USA-NM', 'USA-MI', 'USA-MT', 'USA-MD', 'USA-MO',\n",
       "       'WASHINGTON', 'USA-LA', 'USA-NE', 'USA-AR', 'USA-NJ', 'USA-ID',\n",
       "       'USA-SC', 'USA-OK', 'USA-UT', 'USA-ND', 'MINNESOTA', 'USA-WY',\n",
       "       'USA-VA', 'USA-NC', 'USA-MS', 'USA-IA', 'USA-IL', 'USA-TN',\n",
       "       'CALIFORNIA', 'USA-VT', 'USA-NV', 'USA-GA', 'USA-AL', 'NEW YORK',\n",
       "       'USA-SD', 'USA-CT', 'USA-WI', 'COLORADO', 'USA-KS',\n",
       "       'MASSACHUSETTS', 'OHIO', 'USA-AK', 'USA-KY', 'USA-DC', 'U.S.',\n",
       "       'USA-RI', 'USA-PA', 'USA-IN', 'TEXAS', 'USA-ME'], dtype=object)"
      ]
     },
     "execution_count": 55,
     "metadata": {},
     "output_type": "execute_result"
    }
   ],
   "source": [
    "# checking the area names to understand the unique values in the 'area-name' column\n",
    "df['area-name'].unique()"
   ]
  },
  {
   "cell_type": "code",
   "execution_count": 57,
   "id": "2ec21ca7",
   "metadata": {},
   "outputs": [
    {
     "data": {
      "text/plain": [
       "242"
      ]
     },
     "execution_count": 57,
     "metadata": {},
     "output_type": "execute_result"
    }
   ],
   "source": [
    "# checking how many rows are there for the 'U.S.' area name\n",
    "\n",
    "len(df[df['area-name'] == 'U.S.'])"
   ]
  },
  {
   "cell_type": "code",
   "execution_count": 58,
   "id": "8473db5c",
   "metadata": {},
   "outputs": [
    {
     "data": {
      "text/plain": [
       "count          242\n",
       "mean       338,882\n",
       "std        235,831\n",
       "min         99,781\n",
       "25%        141,970\n",
       "50%        239,660\n",
       "75%        478,246\n",
       "max      1,037,197\n",
       "Name: value, dtype: object"
      ]
     },
     "execution_count": 58,
     "metadata": {},
     "output_type": "execute_result"
    }
   ],
   "source": [
    "# checking the descriptive statistics of the 'U.S.' area name\n",
    "\n",
    "df[df['area-name'] == 'U.S.']['value'].describe().apply(lambda x: f\"{x:,.0f}\")"
   ]
  },
  {
   "cell_type": "markdown",
   "id": "f3e24c4a",
   "metadata": {},
   "source": [
    "Comment: It seems like the U.S. column has the highest valeus in the 'value' column, therefore the best approach would be to leave it out."
   ]
  },
  {
   "cell_type": "code",
   "execution_count": 59,
   "id": "b634ae2b",
   "metadata": {},
   "outputs": [],
   "source": [
    "# dropping US \n",
    "df2 = df[df['area-name'] != 'U.S.']"
   ]
  },
  {
   "cell_type": "code",
   "execution_count": 72,
   "id": "2db1ccec",
   "metadata": {},
   "outputs": [
    {
     "data": {
      "text/plain": [
       "(12316, 8)"
      ]
     },
     "execution_count": 72,
     "metadata": {},
     "output_type": "execute_result"
    }
   ],
   "source": [
    "# checking the shape of the new dataframe\n",
    "\n",
    "df2.shape"
   ]
  },
  {
   "cell_type": "code",
   "execution_count": 60,
   "id": "4a2920a0",
   "metadata": {},
   "outputs": [
    {
     "data": {
      "text/html": [
       "<div>\n",
       "<style scoped>\n",
       "    .dataframe tbody tr th:only-of-type {\n",
       "        vertical-align: middle;\n",
       "    }\n",
       "\n",
       "    .dataframe tbody tr th {\n",
       "        vertical-align: top;\n",
       "    }\n",
       "\n",
       "    .dataframe thead th {\n",
       "        text-align: right;\n",
       "    }\n",
       "</style>\n",
       "<table border=\"1\" class=\"dataframe\">\n",
       "  <thead>\n",
       "    <tr style=\"text-align: right;\">\n",
       "      <th></th>\n",
       "      <th>year</th>\n",
       "      <th>month</th>\n",
       "      <th>area</th>\n",
       "      <th>area-name</th>\n",
       "      <th>process</th>\n",
       "      <th>process-name</th>\n",
       "      <th>value</th>\n",
       "      <th>units</th>\n",
       "    </tr>\n",
       "    <tr>\n",
       "      <th>date</th>\n",
       "      <th></th>\n",
       "      <th></th>\n",
       "      <th></th>\n",
       "      <th></th>\n",
       "      <th></th>\n",
       "      <th></th>\n",
       "      <th></th>\n",
       "      <th></th>\n",
       "    </tr>\n",
       "  </thead>\n",
       "  <tbody>\n",
       "    <tr>\n",
       "      <th>2014-01-01</th>\n",
       "      <td>2014</td>\n",
       "      <td>1</td>\n",
       "      <td>SFL</td>\n",
       "      <td>FLORIDA</td>\n",
       "      <td>VCS</td>\n",
       "      <td>Commercial Consumption</td>\n",
       "      <td>6605.0</td>\n",
       "      <td>MMCF</td>\n",
       "    </tr>\n",
       "    <tr>\n",
       "      <th>2014-01-01</th>\n",
       "      <td>2014</td>\n",
       "      <td>1</td>\n",
       "      <td>SNH</td>\n",
       "      <td>USA-NH</td>\n",
       "      <td>VCS</td>\n",
       "      <td>Commercial Consumption</td>\n",
       "      <td>1691.0</td>\n",
       "      <td>MMCF</td>\n",
       "    </tr>\n",
       "    <tr>\n",
       "      <th>2014-01-01</th>\n",
       "      <td>2014</td>\n",
       "      <td>1</td>\n",
       "      <td>SOR</td>\n",
       "      <td>USA-OR</td>\n",
       "      <td>VCS</td>\n",
       "      <td>Commercial Consumption</td>\n",
       "      <td>4711.0</td>\n",
       "      <td>MMCF</td>\n",
       "    </tr>\n",
       "    <tr>\n",
       "      <th>2014-01-01</th>\n",
       "      <td>2014</td>\n",
       "      <td>1</td>\n",
       "      <td>SDE</td>\n",
       "      <td>USA-DE</td>\n",
       "      <td>VCS</td>\n",
       "      <td>Commercial Consumption</td>\n",
       "      <td>2128.0</td>\n",
       "      <td>MMCF</td>\n",
       "    </tr>\n",
       "    <tr>\n",
       "      <th>2014-01-01</th>\n",
       "      <td>2014</td>\n",
       "      <td>1</td>\n",
       "      <td>SAZ</td>\n",
       "      <td>USA-AZ</td>\n",
       "      <td>VCS</td>\n",
       "      <td>Commercial Consumption</td>\n",
       "      <td>3915.0</td>\n",
       "      <td>MMCF</td>\n",
       "    </tr>\n",
       "  </tbody>\n",
       "</table>\n",
       "</div>"
      ],
      "text/plain": [
       "            year  month area area-name process            process-name  \\\n",
       "date                                                                     \n",
       "2014-01-01  2014      1  SFL   FLORIDA     VCS  Commercial Consumption   \n",
       "2014-01-01  2014      1  SNH    USA-NH     VCS  Commercial Consumption   \n",
       "2014-01-01  2014      1  SOR    USA-OR     VCS  Commercial Consumption   \n",
       "2014-01-01  2014      1  SDE    USA-DE     VCS  Commercial Consumption   \n",
       "2014-01-01  2014      1  SAZ    USA-AZ     VCS  Commercial Consumption   \n",
       "\n",
       "             value units  \n",
       "date                      \n",
       "2014-01-01  6605.0  MMCF  \n",
       "2014-01-01  1691.0  MMCF  \n",
       "2014-01-01  4711.0  MMCF  \n",
       "2014-01-01  2128.0  MMCF  \n",
       "2014-01-01  3915.0  MMCF  "
      ]
     },
     "execution_count": 60,
     "metadata": {},
     "output_type": "execute_result"
    }
   ],
   "source": [
    "# checking the top 5 valeus\n",
    "\n",
    "df2.head()"
   ]
  },
  {
   "cell_type": "code",
   "execution_count": 69,
   "id": "e2f5a916",
   "metadata": {},
   "outputs": [
    {
     "data": {
      "text/plain": [
       "count     12,316\n",
       "mean       6,640\n",
       "std       10,296\n",
       "min           41\n",
       "25%        1,232\n",
       "50%        2,791\n",
       "75%        7,261\n",
       "max      101,155\n",
       "Name: value, dtype: object"
      ]
     },
     "execution_count": 69,
     "metadata": {},
     "output_type": "execute_result"
    }
   ],
   "source": [
    "# checking the descriptive statistics\n",
    "\n",
    "df2[\"value\"].describe().apply(lambda x: f\"{x:,.0f}\")"
   ]
  },
  {
   "cell_type": "markdown",
   "id": "f433f127",
   "metadata": {},
   "source": [
    "Observation: Maximum values are filtered out."
   ]
  },
  {
   "cell_type": "code",
   "execution_count": 76,
   "id": "6e9e19f4",
   "metadata": {},
   "outputs": [
    {
     "data": {
      "image/png": "[encoded data removed]",
      "text/plain": [
       "<Figure size 640x480 with 1 Axes>"
      ]
     },
     "metadata": {},
     "output_type": "display_data"
    }
   ],
   "source": [
    "# Create a figure and axis for better control\n",
    "fig, ax = plt.subplots()\n",
    "\n",
    "# Plot the boxplot on the axis\n",
    "sns.boxplot(x=np.log1p(df2[\"value\"]), ax=ax)\n",
    "\n",
    "# Add title and label\n",
    "ax.set_title(\"Boxplot of 'value' (without U.S. data)\")\n",
    "ax.set_xlabel(\"Log(MMCF)\")\n",
    "\n",
    "# Show the plot\n",
    "plt.show()"
   ]
  },
  {
   "cell_type": "code",
   "execution_count": 77,
   "id": "c782159c",
   "metadata": {},
   "outputs": [],
   "source": [
    "# save the graph to a file\n",
    "\n",
    "fig.savefig(os.path.join(path, '04_Visualizations', 'boxplot_value_no_us.png'))"
   ]
  },
  {
   "cell_type": "markdown",
   "id": "90dad28e",
   "metadata": {},
   "source": [
    "---\n",
    "# 3. Exploratory Data Analysis"
   ]
  },
  {
   "cell_type": "markdown",
   "id": "1fbe0061",
   "metadata": {},
   "source": [
    "### 3.1. Residential Analysis"
   ]
  },
  {
   "cell_type": "markdown",
   "id": "4691bfc5",
   "metadata": {},
   "source": [
    "\n",
    "#### 3.1.1. Average Residental Natural Gas Consumption by Month in the Last 10 Years\n"
   ]
  },
  {
   "cell_type": "code",
   "execution_count": null,
   "id": "c429b8ed",
   "metadata": {},
   "outputs": [],
   "source": []
  },
  {
   "cell_type": "markdown",
   "id": "97f345d8",
   "metadata": {},
   "source": [
    "#### 3.1.2. Total Residential Natural Gas Consumption by Year in the Last 10 Years"
   ]
  },
  {
   "cell_type": "markdown",
   "id": "a5c79d4d",
   "metadata": {},
   "source": [
    "### 3.2. Commercial Analysis"
   ]
  },
  {
   "cell_type": "markdown",
   "id": "814cbbb4",
   "metadata": {},
   "source": [
    "#### 3.2.1. Average Residental Natural Gas Consumption by Month in the Last 10 Years"
   ]
  },
  {
   "cell_type": "markdown",
   "id": "adfb3bc7",
   "metadata": {},
   "source": [
    "#### 3.2.2. Total Residential Natural Gas Consumption by Year in the Last 10 Years"
   ]
  },
  {
   "cell_type": "markdown",
   "id": "7f0514f8",
   "metadata": {},
   "source": [
    "### 3.3. Comparision of Residential and Commercial Natural Gas Consumption Analysis"
   ]
  },
  {
   "cell_type": "markdown",
   "id": "7ef22d67",
   "metadata": {},
   "source": [
    "#### 3.3.1. Comparision of Average Natural Gas Consumption by Month in the Last 10 Years"
   ]
  },
  {
   "cell_type": "markdown",
   "id": "f82c4be1",
   "metadata": {},
   "source": [
    "#### 3.3.2. Comparision of Total Natural Gas Consumption by Year in the Last 10 Years"
   ]
  },
  {
   "cell_type": "markdown",
   "id": "873cd9ee",
   "metadata": {},
   "source": [
    "### 3.4. Total Consumption Analysis"
   ]
  },
  {
   "cell_type": "markdown",
   "id": "ae982955",
   "metadata": {},
   "source": [
    "#### 3.4.1. Average Natural Gas Consumption by Month in the Last 10 Years"
   ]
  },
  {
   "cell_type": "markdown",
   "id": "1b096f06",
   "metadata": {},
   "source": [
    "#### 3.4.2. Total Natural Gas Consumption by Year in the Last 10 Years"
   ]
  },
  {
   "cell_type": "markdown",
   "id": "1d9eaf11",
   "metadata": {},
   "source": [
    "## 4. Exporting Data"
   ]
  },
  {
   "cell_type": "code",
   "execution_count": 80,
   "id": "420d3722",
   "metadata": {},
   "outputs": [],
   "source": [
    "# export the data\n",
    "\n",
    "df2.to_parquet(os.path.join(path, '02_Data', 'prepared_data', 'gas_data_cleaned_no_us.parquet'))"
   ]
  },
  {
   "cell_type": "code",
   "execution_count": null,
   "id": "db582f55",
   "metadata": {},
   "outputs": [],
   "source": []
  }
 ],
 "metadata": {
  "kernelspec": {
   "display_name": "us_gas_venv",
   "language": "python",
   "name": "python3"
  },
  "language_info": {
   "codemirror_mode": {
    "name": "ipython",
    "version": 3
   },
   "file_extension": ".py",
   "mimetype": "text/x-python",
   "name": "python",
   "nbconvert_exporter": "python",
   "pygments_lexer": "ipython3",
   "version": "3.13.2"
  }
 },
 "nbformat": 4,
 "nbformat_minor": 5
}
