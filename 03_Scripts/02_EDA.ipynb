{
 "cells": [
  {
   "cell_type": "markdown",
   "id": "a026833e",
   "metadata": {},
   "source": [
    "# Table of Contents\n",
    "\n",
    "## 1. Importing Data\n",
    "## 2. Exploratory Data Analysis\n",
    "\n",
    "### 2.1. Residential Analysis\n",
    "\n",
    "#### 2.1.1. Average Residental Natural Gas Consumption by Month in the Last 10 Years\n",
    "#### 2.1.1. Total Residential Natural Gas Consumption by Year in the Last 10 Years\n",
    "\n",
    "\n",
    "### 2.2. Commercial Analysis\n",
    "\n",
    "#### 2.1.1. Average Residental Natural Gas Consumption by Month in the Last 10 Years\n",
    "#### 2.2.2. Total Residential Natural Gas Consumption by Year in the Last 10 Years\n",
    "\n",
    "### 2.3. Comparision of Residential and Commercial Natural Gas Consumption Analysis\n",
    "\n",
    "#### 2.3.1. Comparision of Average Natural Gas Consumption by Month in the Last 10 Years\n",
    "#### 2.3.2. Comparision of Total Natural Gas Consumption by Year in the Last 10 Years\n",
    "\n",
    "### 2.4. Total Consumption Analysis\n",
    "\n",
    "#### 2.4.1. Average Natural Gas Consumption by Month in the Last 10 Years\n",
    "#### 2.4.2. Total Natural Gas Consumption by Year in the Last 10 Years\n",
    "\n",
    "## 3. Exporting Data\n",
    "\n",
    "\n",
    "\n",
    "\n",
    "\n"
   ]
  },
  {
   "cell_type": "markdown",
   "id": "80dc63cf",
   "metadata": {},
   "source": [
    "## 1. Importing Data\n",
    "---"
   ]
  },
  {
   "cell_type": "code",
   "execution_count": null,
   "id": "62b88969",
   "metadata": {},
   "outputs": [],
   "source": []
  },
  {
   "cell_type": "code",
   "execution_count": null,
   "id": "9d25dc76",
   "metadata": {},
   "outputs": [],
   "source": []
  }
 ],
 "metadata": {
  "language_info": {
   "name": "python"
  }
 },
 "nbformat": 4,
 "nbformat_minor": 5
}
